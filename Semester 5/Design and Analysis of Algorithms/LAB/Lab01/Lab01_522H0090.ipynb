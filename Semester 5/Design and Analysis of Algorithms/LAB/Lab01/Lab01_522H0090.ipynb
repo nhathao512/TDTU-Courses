{
  "nbformat": 4,
  "nbformat_minor": 0,
  "metadata": {
    "colab": {
      "provenance": [],
      "toc_visible": true
    },
    "kernelspec": {
      "name": "python3",
      "display_name": "Python 3"
    },
    "language_info": {
      "name": "python"
    }
  },
  "cells": [
    {
      "cell_type": "markdown",
      "source": [
        "# Exercise 1"
      ],
      "metadata": {
        "id": "uvu91o9zxsA1"
      }
    },
    {
      "cell_type": "markdown",
      "source": [
        "## 1.a"
      ],
      "metadata": {
        "id": "xW50lIVhx6hM"
      }
    },
    {
      "cell_type": "code",
      "source": [
        "def function(A)\n",
        "#input: A – an array of n numbers\n",
        "1.  for i←0 to n-2 do\n",
        "2.    for j←i+1 to n-1 do\n",
        "3.      if A[i]==A[j] return false\n",
        "4.  return true"
      ],
      "metadata": {
        "id": "yy0VW7yJ1Zv1"
      },
      "execution_count": null,
      "outputs": []
    },
    {
      "cell_type": "markdown",
      "source": [
        "### Analysis:\n",
        "\n",
        "1) input size: n\n",
        "\n",
        "2) basic operation: comparison on line 3\n",
        "\n",
        "3) worst cases: the function return true, or false at the end of the loop\n",
        "\n",
        "4) Fix i, count j\n",
        "\n",
        "  i = 0, j = 1 to n-1: n-1 times\n",
        "\n",
        "  i = 1, j = 2 to n-1: n-2 times\n",
        "\n",
        "  ….\n",
        "\n",
        "  i = n-2, j = n-1..n-1: 1 time\n",
        "\n",
        "  $T(n) = 1 + 2 +…+ n-2 + n-1 = n(n-1)/2$\n",
        "\n",
        "  T(n) belongs to Theta(n^2)"
      ],
      "metadata": {
        "id": "8BMsVM1j0Zm_"
      }
    },
    {
      "cell_type": "markdown",
      "source": [
        "## 1.b"
      ],
      "metadata": {
        "id": "fDbV2zjJyTuD"
      }
    },
    {
      "cell_type": "code",
      "source": [
        "def f(A):\n",
        "1.  #input A is an array of n number\n",
        "2.  n = len(A)\n",
        "3.  for i in range(0, n-1):\n",
        "4.    max = A[i]\n",
        "5.    imax = i\n",
        "6.    for j in range(i+1, n):\n",
        "7.      if A[j] > max:\n",
        "8.        max = A[j]\n",
        "9.        imax = j\n",
        "10.   A[i], A[imax] = A[imax], A[i]"
      ],
      "metadata": {
        "id": "WfsLnSIh1yMf"
      },
      "execution_count": null,
      "outputs": []
    },
    {
      "cell_type": "markdown",
      "source": [
        "### Analysis:\n",
        "\n",
        "1 input size: n\n",
        "\n",
        "2 basic operation: comparison on line 7\n",
        "\n",
        "3 worst cases: the array is sorted in descending order.\n",
        "\n",
        "4 Fix i, count j\n",
        "\n",
        "i = 0, j = 1 to n-1: n-1 times\n",
        "\n",
        "i = 1, j = 2 to n-1: n-2 times\n",
        "\n",
        "…\n",
        "\n",
        "i = n-2, j = n-1..n-1: 1 time\n",
        "\n",
        "$T(n) = 1 + 2 +…+ n-2 + n-1 = n(n-1)/2$\n",
        "\n",
        "T(n) belongs to Theta(n^2)"
      ],
      "metadata": {
        "id": "d0BKiPNHyVay"
      }
    },
    {
      "cell_type": "markdown",
      "source": [
        "## 1.c"
      ],
      "metadata": {
        "id": "PI8PCyx84R5n"
      }
    },
    {
      "cell_type": "code",
      "source": [
        "Function F(n):\n",
        "#Input:  n=3^k, k integer, positive\n",
        "#Output: count\n",
        "1.  count ← 0; i = n\n",
        "2.  while (i ≥ 1)\n",
        "      a.  for j ← 1 to n do\n",
        "\t        i.  count ← count + 1\n",
        "\t        ii. print(j)\n",
        "\t    b.  end for\n",
        "\t    c.  i ← i/3\n",
        "    end while"
      ],
      "metadata": {
        "id": "QLnOBhg14UVm"
      },
      "execution_count": null,
      "outputs": []
    },
    {
      "cell_type": "markdown",
      "source": [
        "### Analysis\n",
        "1 input size: n\n",
        "\n",
        "2 basic operation: \"+\" on line 4\n",
        "\n",
        "3 worst cases: no.\n",
        "\n",
        "4 Fix i, count j\n",
        "\n",
        "i = n, j = 1 to n: n times\n",
        "\n",
        "i = n/3, j = 1 to n: n times\n",
        "\n",
        "i = n/9, j = 1 to n: n times\n",
        "\n",
        "…\n",
        "\n",
        "i = n/3^(k-1), j = 1..n: 1 time\n",
        "\n",
        "$T(n) = n * log3(n)$\n",
        "\n",
        "T(n) belongs to Theta(nlogn)"
      ],
      "metadata": {
        "id": "9hi_VcSV4Tg2"
      }
    },
    {
      "cell_type": "markdown",
      "source": [
        "## 1.d"
      ],
      "metadata": {
        "id": "q27u-qUB_Gaa"
      }
    },
    {
      "cell_type": "code",
      "source": [
        "ALGORITHMS F(A[0..n-1])\n",
        "1. for i←0 to n-2 of the\n",
        "2. \tfor j←i+1 to n-1 of the\n",
        "3. \t\tif A[i]==A[j]*A[j]  return false\n",
        "4. return true"
      ],
      "metadata": {
        "id": "tZ9yuK0X_MiJ"
      },
      "execution_count": null,
      "outputs": []
    },
    {
      "cell_type": "markdown",
      "source": [
        "### Analysis\n",
        "\n",
        "1 input size: n\n",
        "\n",
        "2 basic operation: comparison on line 3\n",
        "\n",
        "3 worst cases: The worst case occurs when no pair of elements satisfies the condition A[i] = A[j]^2\n",
        "\n",
        "4 Fix i, count j\n",
        "\n",
        "i = 0, j = 1 to n-1: n-1 times\n",
        "\n",
        "i = 1, j = 2 to n-1: n-2 times\n",
        "\n",
        "…\n",
        "\n",
        "i = n-2, j = n-1...n-1: 1 time\n",
        "\n",
        "$T(n)=(n-1)+(n-2)+(n-3)+...+1= n(n-1)/2$\n",
        "\n",
        "T(n) belongs to Theta(n^2)"
      ],
      "metadata": {
        "id": "qLJWA3zn_P1g"
      }
    },
    {
      "cell_type": "markdown",
      "source": [
        "## 1.e"
      ],
      "metadata": {
        "id": "a9KbDhDXB40s"
      }
    },
    {
      "cell_type": "code",
      "source": [
        "Function f(k):\n",
        "1.\tint i, even;\n",
        "2.\ti := 1;\n",
        "3.\teven := 0;\n",
        "4.\twhile( i < k ) {\n",
        "5.\t          even := even + 2;\n",
        "6.\t          i :=  i + 1;\n",
        "7.\t}\n",
        "8.\treturn even"
      ],
      "metadata": {
        "id": "dvUxQ-9AB8Uz"
      },
      "execution_count": null,
      "outputs": []
    },
    {
      "cell_type": "markdown",
      "source": [
        "### Analysis\n",
        "1 input size: k\n",
        "\n",
        "2 basic operation: addition on line 5\n",
        "\n",
        "3 worst cases: the function return even when i reach to k - 1\n",
        "\n",
        "4 Fix i\n",
        "\n",
        "i = 1, i < k to k: k-1 times\n",
        "\n",
        "$T(k)=1+1+...+1=k-1$\n",
        "\n",
        "T(k) belongs to Theta(k)"
      ],
      "metadata": {
        "id": "Q4QAsaDTCAyq"
      }
    },
    {
      "cell_type": "markdown",
      "source": [
        "## 1.f"
      ],
      "metadata": {
        "id": "4xBWhcqNHZs5"
      }
    },
    {
      "cell_type": "code",
      "source": [
        "Algorithm:   f(natural number k)\n",
        "1.\tint   i, power;\n",
        "2.\ti := 0;\n",
        "3.\tpower := 1;\n",
        "4.\twhile( i < k ) {\n",
        "5.\t          power := power * 2;\n",
        "6.\t          i :=  i + 1;\n",
        "7.\t}\n",
        "8.\treturn power"
      ],
      "metadata": {
        "id": "ykU00ekHHcez"
      },
      "execution_count": null,
      "outputs": []
    },
    {
      "cell_type": "markdown",
      "source": [
        "### Analysis\n",
        "1 input size: k\n",
        "\n",
        "2 basic operation: multiplication on line 5\n",
        "\n",
        "3 worst cases: the function return even when i reach to k - 1\n",
        "\n",
        "4 Fix i\n",
        "\n",
        "i = 1, i < k to k: k-1 times\n",
        "\n",
        "$T(k)=1+1+...+1=k-1$\n",
        "\n",
        "T(k) belongs to Theta(k)"
      ],
      "metadata": {
        "id": "MPOqDW-YHgzA"
      }
    },
    {
      "cell_type": "markdown",
      "source": [
        "## 1.g"
      ],
      "metadata": {
        "id": "a6b5mdsLJaNl"
      }
    },
    {
      "cell_type": "code",
      "source": [
        "Algorithm bubbleSort(A : list of sortable items)\n",
        "1. n := length(A)\n",
        "2. repeat\n",
        "3.    swapped := false\n",
        "4.    for i := 1 to n-1 inclusive do\n",
        "5.        /* if this pair is out of order */\n",
        "6.        if A[i-1] > A[i] then\n",
        "7.            swap(A[i-1], A[i])\n",
        "8.            swapped := true\n",
        "9.        end if\n",
        "10.   end for\n",
        "11. until not swapped\n",
        "12.end procedure\n"
      ],
      "metadata": {
        "id": "KUXNmnY_JduY"
      },
      "execution_count": null,
      "outputs": []
    },
    {
      "cell_type": "markdown",
      "source": [
        "### Analysis\n",
        "1 input size: n\n",
        "\n",
        "2 basic operation:  comparison on line 6\n",
        "\n",
        "3 worst cases: The worst case occurs when list A is sorted in descending order\n",
        "\n",
        "4 Fix i\n",
        "\n",
        "i = 1 to n: n-1 times\n",
        "\n",
        "$T(n)=1+1+...+1=n-1$\n",
        "\n",
        "T(n) belongs to Theta(n)"
      ],
      "metadata": {
        "id": "1ZE80-FZKIH7"
      }
    },
    {
      "cell_type": "markdown",
      "source": [
        "## 1.h"
      ],
      "metadata": {
        "id": "rm93q9sFL9UA"
      }
    },
    {
      "cell_type": "code",
      "source": [
        "ALGORITHMS func(A[0..n-1])\n",
        "1. for i←0 to n-2 do\n",
        "2. \tfor j←i+1 to n-1 do\n",
        "3. \t\tif A[i]=A[j] return false\n",
        "4. return true\n"
      ],
      "metadata": {
        "id": "B-1g8TiJL-ww"
      },
      "execution_count": null,
      "outputs": []
    },
    {
      "cell_type": "markdown",
      "source": [
        "### Analysis\n",
        "\n",
        "1 input size: n\n",
        "\n",
        "2 basic operation:  comparison on line 3\n",
        "\n",
        "3 worst cases: The function has no duplicate elements in list A\n",
        "\n",
        "4 Fix i, count j\n",
        "\n",
        "i = 0,j = 1 to n-1: n-1 times\n",
        "\n",
        "i = 1,j = 2 to n-1: n-2 times\n",
        "\n",
        "...\n",
        "\n",
        "i = n-2,j = n-1..n-1:1 times\n",
        "\n",
        "$T(n)=(n-1)+(n-2)+(n-3)+...+1=n(n-)/2$\n",
        "\n",
        "T(n) belongs to Theta(n^2)"
      ],
      "metadata": {
        "id": "zkK-z1iwMDNP"
      }
    },
    {
      "cell_type": "markdown",
      "source": [
        "## 1.i"
      ],
      "metadata": {
        "id": "6gHZ7AFS7Zah"
      }
    },
    {
      "cell_type": "code",
      "source": [
        "function insertionSort(array A)\n",
        "01. i ← 1\n",
        "02. while i < length(A)\n",
        "03.    x ← A[i]\n",
        "04.    j ← i - 1\n",
        "05.    while j >= 0 and A[j] > x\n",
        "06.        A[j+1] ← A[j]\n",
        "07.        j ← j - 1\n",
        "08.    end while\n",
        "09.    A[j+1] ← x\n",
        "10.    i ← i + 1\n",
        "11.end while\n"
      ],
      "metadata": {
        "id": "WzUMrQWo7bEN"
      },
      "execution_count": null,
      "outputs": []
    },
    {
      "cell_type": "markdown",
      "source": [
        "### Analysis\n",
        "\n",
        "1 input size: n\n",
        "\n",
        "2 basic operation:  comparison on line 5\n",
        "\n",
        "3 worst cases: The function has the original list A sorted in reverse order\n",
        "\n",
        "4 Fix i, count j\n",
        "\n",
        "i = 1,j = 0 to 0: 1 times\n",
        "\n",
        "i = 2,j = 1 to 0: 2 times\n",
        "\n",
        "...\n",
        "\n",
        "i = n-1,j = n-2..0: n-1 times\n",
        "\n",
        "$T(n)=1+2+3+...+(n-1)=n(n-)/2$\n",
        "\n",
        "T(n) belongs to Theta(n^2)"
      ],
      "metadata": {
        "id": "ozIHrPqB7eLT"
      }
    },
    {
      "cell_type": "markdown",
      "source": [
        "# Exercise 2"
      ],
      "metadata": {
        "id": "uFjRUksAxwhV"
      }
    },
    {
      "cell_type": "markdown",
      "source": [
        "## 2.a"
      ],
      "metadata": {
        "id": "FHctStBk9sSa"
      }
    },
    {
      "cell_type": "markdown",
      "source": [
        "False. The dominant term in 32n^2 + 17n + 32 is n^2. Since n^2 grows faster than n, 332n^2 + 17n + 32 cannot be in O(n)"
      ],
      "metadata": {
        "id": "vnxdFrgK9-j0"
      }
    },
    {
      "cell_type": "markdown",
      "source": [
        "## 2.b"
      ],
      "metadata": {
        "id": "TGms83sY-nUG"
      }
    },
    {
      "cell_type": "markdown",
      "source": [
        "True. The term n^3 grows faster than n^2 , so 32n^2 + 17n + 32 is asymptotically bounded above by n^3 , meaning it is in 0(n^3)."
      ],
      "metadata": {
        "id": "k60k5l4L-rLM"
      }
    },
    {
      "cell_type": "markdown",
      "source": [
        "## 2.c"
      ],
      "metadata": {
        "id": "aN85JCxY_Zhg"
      }
    },
    {
      "cell_type": "markdown",
      "source": [
        "False. n^3 grows faster than n^2 , so 32n^2 + 17n + 32 cannot be asymptotically bounded below by n^3 . It is not in Omega(n^3)."
      ],
      "metadata": {
        "id": "mXER5idb_a3x"
      }
    },
    {
      "cell_type": "markdown",
      "source": [
        "## 2.d"
      ],
      "metadata": {
        "id": "SHo0kq02_2jq"
      }
    },
    {
      "cell_type": "markdown",
      "source": [
        "True. The term n^2 grows faster than n, so 32n^2 + 17n + 32 is asymptotically bounded below by n, meaning it is in Omega(n)."
      ],
      "metadata": {
        "id": "OlzFlEOf_3rN"
      }
    },
    {
      "cell_type": "markdown",
      "source": [
        "## 2.e"
      ],
      "metadata": {
        "id": "8Pp81jXQADR5"
      }
    },
    {
      "cell_type": "markdown",
      "source": [
        "True. 2^(n+1) = 2 * 2^n, which is just a constant multiple of 2^n. Thus, 2^(n+1) is in O(2^n)."
      ],
      "metadata": {
        "id": "E47XshPbAFFe"
      }
    },
    {
      "cell_type": "markdown",
      "source": [
        "## 2.f"
      ],
      "metadata": {
        "id": "ncts8dykAocW"
      }
    },
    {
      "cell_type": "markdown",
      "source": [
        "False. 2^2n = 2^n * 2^n = 2^2n, which grows exponentially faster than 2^n, so 2^n doesn't belong O(2^n)."
      ],
      "metadata": {
        "id": "cz07W8O_AscE"
      }
    },
    {
      "cell_type": "markdown",
      "source": [
        "## 2.g"
      ],
      "metadata": {
        "id": "lXrjQ_GwBdkZ"
      }
    },
    {
      "cell_type": "markdown",
      "source": [
        "False. For example, f(n) = n and g(n) = n^2 satisfy both f(n) belongs O(g(n)) (since n grows slower than n^2) and g(n) belongs O(f(n)) (since n^2 grows faster than n), but f(n) different g(n). Hence, this statement is false."
      ],
      "metadata": {
        "id": "HP4oXWTNBgym"
      }
    },
    {
      "cell_type": "markdown",
      "source": [
        "# Exercise 3"
      ],
      "metadata": {
        "id": "iWgPFxADxzIU"
      }
    },
    {
      "cell_type": "markdown",
      "source": [
        "## 3.a log2f(n) belongs 0(log2g(n))"
      ],
      "metadata": {
        "id": "BLI0H9BsDOIf"
      }
    },
    {
      "cell_type": "markdown",
      "source": [
        "This statement asks whether log2f(n) is asymptotically bounded above by log2g(n).\n",
        "\n",
        "If f(n) belongs O(g(n)), then log2f(n) would also be bounded by log2g(n), since logarithms grow slower than polynomial or exponential functions.\n",
        "\n",
        "Conclusion: This is true, because the logarithmic relationship preserves the asymptotic bound."
      ],
      "metadata": {
        "id": "wLY79HZKDPUp"
      }
    },
    {
      "cell_type": "markdown",
      "source": [
        "## 3.b 2^f(n) belongs O(2^g(n))"
      ],
      "metadata": {
        "id": "IxFSzhKAEJHP"
      }
    },
    {
      "cell_type": "markdown",
      "source": [
        "This statement asks if 2^f(n) grows asymptotically slower or at the same rate as 2^g(n).\n",
        "\n",
        "If f(n) belongs O(g(n)), then 2^f(n) will be asymptotically bounded by 2^g(n) , since exponentiation with the same base magnifies the growth rate.\n",
        "\n",
        "Conclusion: This is true, because 2^f(n) is bounded by 2^g(n) when f(n) belongs O(g(n))."
      ],
      "metadata": {
        "id": "gnK6unvDEXcV"
      }
    },
    {
      "cell_type": "markdown",
      "source": [
        "## 3.c f(n)^2 belongs O(g(n)^2)"
      ],
      "metadata": {
        "id": "hvJ35vDrFMvm"
      }
    },
    {
      "cell_type": "markdown",
      "source": [
        "This statement asks if f(n)^2 is asymptotically bounded by g(n)^2.\n",
        "\n",
        "If f(n) belongs O(g(n)), then squaring both sides preserves the asymptotic relationship, i.e., f(n)^2 belongs O(g(n)^2).\n",
        "\n",
        "Conclusion: This is true, because squaring both functions maintains the asymptotic growth."
      ],
      "metadata": {
        "id": "zagSmAL3FX8T"
      }
    },
    {
      "cell_type": "markdown",
      "source": [
        "# Exercise 4"
      ],
      "metadata": {
        "id": "qY9bgytpx0sE"
      }
    },
    {
      "cell_type": "markdown",
      "source": [
        "Let’s analyze and compare the given functions:\n",
        "Functions:\n",
        "\n",
        "$f_1(n) = n^{2.5}$\n",
        "\n",
        "$f_2(n) = \\sqrt{2^n}$\n",
        "\n",
        "$f_3(n) = n + 10$\n",
        "\n",
        "$f_4(n) = 10^n$\n",
        "\n",
        "$f_5(n) = 100^n$\n",
        "\n",
        "$f_6(n) = n^2 \\log n$\n",
        "\n",
        "1) Compare $f_2(n) = \\sqrt{2^n}$ with $f_3(n) = n + 10$\n",
        "\n",
        "$$\\lim_{n \\to \\infty} \\frac{\\sqrt{2^n}}{n + 10} = \\lim_{n \\to \\infty} \\frac{\\sqrt{2^n} \\cdot n^{1/2}}{n} = \\lim_{n \\to \\infty} \\frac{\\sqrt{2}}{n^{1/2}} = 0$$\n",
        "\n",
        "Thus, $f_2(n) \\in O(f_3(n))$, meaning $f_3(n)$ grows faster than $f_2(n)$.\n",
        "\n",
        "2) Compare $f_3(n) = n + 10$ with $f_1(n) = n^{2.5}$\n",
        "\n",
        "$$\\lim_{n \\to \\infty} \\frac{n + 10}{n^{2.5}} = \\lim_{n \\to \\infty} \\frac{n}{n^{2.5}} = \\lim_{n \\to \\infty} \\frac{1}{n^{1.5}} = 0$$\n",
        "\n",
        "Thus, $f_3(n) \\in O(f_1(n))$, meaning $f_1(n)$ grows faster than $f_3(n)$.\n",
        "\n",
        "3) Compare $f_1(n) = n^{2.5}$ with $f_6(n) = n^2 \\log n$\n",
        "\n",
        "$$\\lim_{n \\to \\infty} \\frac{n^{2.5}}{n^2 \\log n} = \\lim_{n \\to \\infty} \\frac{n^{0.5}}{\\log n} = \\infty$$\n",
        "\n",
        "Thus, $f_6(n) \\in O(f_1(n))$, meaning $f_1(n)$ grows faster than $f_6(n)$.\n",
        "\n",
        "4) Compare $f_1(n) = n^{2.5}$ with $f_4(n) = 10^n$\n",
        "\n",
        "$$\\lim_{n \\to \\infty} \\frac{n^{2.5}}{10^n} = 0$$\n",
        "\n",
        "Thus, $f_1(n) \\in O(f_4(n))$, meaning $f_4(n)$ grows faster than $f_1(n)$.\n",
        "\n",
        "5) Compare $f_4(n) = 10^n$ with $f_5(n) = 100^n$\n",
        "\n",
        "$$\\lim_{n \\to \\infty} \\frac{10^n}{100^n} = \\lim_{n \\to \\infty} \\frac{10^n}{(10^2)n} = \\lim_{n \\to \\infty} \\frac{1}{10^n} = 0$$\n",
        "\n",
        "Thus, $f_4(n) \\in O(f_5(n))$, meaning $f_5(n)$ grows faster than $f_4(n)$.\n",
        "\n",
        "6) Compare $f_6(n) = n^2 \\log n$ with $f_3(n) = n + 10$\n",
        "\n",
        "$$\\lim_{n \\to \\infty} \\frac{n^2 \\log n}{n} = \\lim_{n \\to \\infty} n \\log n = \\infty$$\n",
        "\n",
        "Thus, $f_3(n) \\in O(f_6(n))$, meaning $f_6(n)$ grows faster than $f_3(n)$.\n",
        "\n",
        "##From the comparisons, the growth order of the functions from smallest to largest is:\n",
        "\n",
        "$f_2(n) = \\sqrt{2^n}$ (smallest)\n",
        "\n",
        "$f_3(n) = n + 10$\n",
        "\n",
        "$f_6(n) = n^2 \\log n$\n",
        "\n",
        "$f_1(n) = n^{2.5}$\n",
        "\n",
        "$f_4(n) = 10^n$\n",
        "\n",
        "$f_5(n) = 100^n$ (largest)\n",
        "\n",
        "\n"
      ],
      "metadata": {
        "id": "beDnZut5mlMS"
      }
    },
    {
      "cell_type": "markdown",
      "source": [
        "# Exercise 5"
      ],
      "metadata": {
        "id": "kQ2IPfypx2cM"
      }
    },
    {
      "cell_type": "markdown",
      "source": [
        "Let’s analyze and compare the given functions:\n",
        "Functions:\n",
        "\n",
        "$g_1(n) = 2^{\\sqrt{logn}}$\n",
        "\n",
        "$g_2(n) = 2^n$\n",
        "\n",
        "$g_3(n) = n^{4/3}$\n",
        "\n",
        "$g_4(n) = n (\\log n)^3$\n",
        "\n",
        "$g_5(n) = n^{logn}$\n",
        "\n",
        "$g_6(n) = 2^{2n}$\n",
        "\n",
        "$g_7(n) = 2^{n^2}$\n",
        "\n",
        "1) Compare $g_3(n) = n^{4/3}$ with $g_4(n) = n (\\log n)^3$\n",
        "\n",
        "$$\\lim_{n \\to \\infty} \\frac{n^{4/3}}{n (\\log n)^3} = \\lim_{n \\to \\infty} \\frac{n^{4/3 - 1}}{(\\log n)^3} = \\lim_{n \\to \\infty} \\frac{n^{1/3}}{(\\log n)^3} = \\infty$$\n",
        "\n",
        "Thus, $g_4(n) \\in O(g_3(n))$, meaning $g_3(n)$ grows faster than $g_4(n)$.\n",
        "\n",
        "2) Compare $g_3(n) = n^{4/3}$ with $g_5(n) = n \\log n$\n",
        "\n",
        "$$\\lim_{n \\to \\infty} \\frac{n^{4/3}}{n \\log n} = \\lim_{n \\to \\infty} \\frac{n^{4/3 - 1}}{\\log n} = \\lim_{n \\to \\infty} \\frac{n^{1/3}}{\\log n} = \\infty$$\n",
        "\n",
        "Thus, $g_5(n) \\in O(g_3(n))$, meaning $g_3(n)$ grows faster than $g_5(n)$.\n",
        "\n",
        "3) Compare $g_4(n) = n (\\log n)^3$ with $g_5(n) = n \\log n$\n",
        "\n",
        "$$\\lim_{n \\to \\infty} \\frac{n (\\log n)^3}{n \\log n} = \\lim_{n \\to \\infty} \\frac{(\\log n)^3}{\\log n} = \\lim_{n \\to \\infty} (\\log n)^2 = \\infty$$\n",
        "\n",
        "Thus, $g_5(n) \\in O(g_4(n))$, meaning $g_4(n)$ grows faster than $g_5(n)$.\n",
        "\n",
        "4) Compare $g_1(n) = 2 \\log n$ with $g_3(n) = n^{4/3}$\n",
        "\n",
        "$$\\lim_{n \\to \\infty} \\frac{2 \\log n}{n^{4/3}} = 0$$\n",
        "\n",
        "Thus, $g_1(n) \\in O(g_3(n))$, meaning $g_3(n)$ grows faster than $g_1(n)$.\n",
        "\n",
        "5) Compare $g_1(n) = 2 \\log n$ with $g_4(n) = n (\\log n)^3$\n",
        "\n",
        "$$\\lim_{n \\to \\infty} \\frac{2 \\log n}{n (\\log n)^3} = 0$$\n",
        "\n",
        "Thus, $g_1(n) \\in O(g_4(n))$, meaning $g_4(n)$ grows faster than $g_1(n)$.\n",
        "\n",
        "6) Compare $g_2(n) = 2^n$ with $g_5(n) = n \\log n$\n",
        "\n",
        "$$\\lim_{n \\to \\infty} \\frac{2^n}{n \\log n} = \\infty$$\n",
        "\n",
        "Thus, $g_5(n) \\in O(g_2(n))$, meaning $g_2(n)$ grows faster than $g_5(n)$.\n",
        "\n",
        "7) Compare $g_2(n) = 2^n$ with $g_7(n) = 2^{n^2}$\n",
        "\n",
        "$$\\lim_{n \\to \\infty} \\frac{2^n}{2^{n^2}} = \\lim_{n \\to \\infty} 2^{n - n^2} = 0$$\n",
        "\n",
        "Thus, $g_2(n) \\in O(g_7(n))$, meaning $g_7(n)$ grows faster than $g_2(n)$.\n",
        "\n",
        "8) Compare $g_6(n) = 2^{2n}$ with $g_7(n) = 2^{n^2}$\n",
        "\n",
        "$$\\lim_{n \\to \\infty} \\frac{2^{2n}}{2^{n^2}} = \\lim_{n \\to \\infty} 2^{2n - n^2} = 0$$\n",
        "\n",
        "Thus, $g_6(n) \\in O(g_7(n))$, meaning $g_7(n)$ grows faster than $g_6(n)$.\n",
        "\n",
        "##From the comparisons, the growth order of the functions from smallest to largest is:\n",
        "\n",
        "$g_1(n) = 2^{\\sqrt{logn}}$ (smallest)\n",
        "\n",
        "$g_4(n) = n (\\log n)^3$\n",
        "\n",
        "$g_3(n) = n^{4/3}$\n",
        "\n",
        "$g_5(n) = n^{logn}$\n",
        "\n",
        "$g_2(n) = 2^n$\n",
        "\n",
        "$g_7(n) = 2^{n^2}$\n",
        "\n",
        "$g_6(n) = 2^{2n}$ (largest)\n",
        "\n",
        "\n",
        "\n",
        "\n",
        "\n"
      ],
      "metadata": {
        "id": "hYASPA9Jq_QK"
      }
    }
  ]
}