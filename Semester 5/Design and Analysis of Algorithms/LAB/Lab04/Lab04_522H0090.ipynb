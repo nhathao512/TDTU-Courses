{
  "nbformat": 4,
  "nbformat_minor": 0,
  "metadata": {
    "colab": {
      "provenance": []
    },
    "kernelspec": {
      "name": "python3",
      "display_name": "Python 3"
    },
    "language_info": {
      "name": "python"
    }
  },
  "cells": [
    {
      "cell_type": "markdown",
      "source": [
        "# Exercise 1"
      ],
      "metadata": {
        "id": "0FD-MQf25LIt"
      }
    },
    {
      "cell_type": "markdown",
      "source": [
        "## Implement"
      ],
      "metadata": {
        "id": "1aqKHumg5PpD"
      }
    },
    {
      "cell_type": "code",
      "source": [
        "def hoare_partition(A, l, r):\n",
        "    pivot = A[l]\n",
        "    i = l - 1\n",
        "    j = r + 1\n",
        "    while True:\n",
        "        i += 1\n",
        "        while A[i] < pivot:\n",
        "            i += 1\n",
        "        j -= 1\n",
        "        while A[j] > pivot and j>0:\n",
        "            j -= 1\n",
        "        if i >= j:\n",
        "            return j\n",
        "        A[i], A[j] = A[j], A[i]\n",
        "def quicksort(A, l, r):\n",
        "  if l < r:\n",
        "    s = hoare_partition(A, l, r)\n",
        "    quicksort(A, l, s)\n",
        "    quicksort(A, s + 1, r)\n",
        "\n",
        "array = [10, 7, 8, 9, 1, 5]\n",
        "quicksort(array, 0, len(array) - 1)\n",
        "print(\"Sorted array:\", array)"
      ],
      "metadata": {
        "id": "bzr-69s-5Ozk",
        "colab": {
          "base_uri": "https://localhost:8080/"
        },
        "outputId": "65702b39-1abe-4610-b018-b7aa02336f03"
      },
      "execution_count": 1,
      "outputs": [
        {
          "output_type": "stream",
          "name": "stdout",
          "text": [
            "Sorted array: [1, 5, 7, 8, 9, 10]\n"
          ]
        }
      ]
    },
    {
      "cell_type": "markdown",
      "source": [
        "## Analyze"
      ],
      "metadata": {
        "id": "lCVcvIwh5W0b"
      }
    },
    {
      "cell_type": "markdown",
      "source": [
        "1) Input size: Array A has n elements => T(n)\n",
        "\n",
        "2) Basic operation: Assignment on line 14\n",
        "\n",
        "3) Worse case: the pivot is always the smallest or largest element in the subarray\n",
        "\n",
        "4) $T(n) = n + (n -1) + (n -2 ) +...+ 1 = (n^2 - n)/2 = n^2$ $=> T(n) ∈ Θ(n^2)$"
      ],
      "metadata": {
        "id": "AQlOUBJE5bhk"
      }
    },
    {
      "cell_type": "markdown",
      "source": [
        "# Exercise 2"
      ],
      "metadata": {
        "id": "ZkrnTfGe6Imy"
      }
    },
    {
      "cell_type": "markdown",
      "source": [
        "## Implement"
      ],
      "metadata": {
        "id": "ZS76yo6C6Kfh"
      }
    },
    {
      "cell_type": "code",
      "source": [
        "class TreeNode:\n",
        "    def __init__(self, value, left=None, right=None):\n",
        "        self.value = value\n",
        "        self.left = left\n",
        "        self.right = right\n",
        "\n",
        "def height(node):\n",
        "    if node is None:\n",
        "        return -1\n",
        "\n",
        "    left_height = height(node.left)\n",
        "    right_height = height(node.right)\n",
        "\n",
        "    return max(left_height, right_height) + 1\n",
        "\n",
        "root = TreeNode(1)\n",
        "root.left = TreeNode(2)\n",
        "root.right = TreeNode(3)\n",
        "root.left.left = TreeNode(4)\n",
        "root.left.right = TreeNode(5)\n",
        "\n",
        "tree_height = height(root)\n",
        "print(\"Height of the tree:\", tree_height)"
      ],
      "metadata": {
        "colab": {
          "base_uri": "https://localhost:8080/"
        },
        "id": "Z01vMGHC9fY_",
        "outputId": "ea8275d4-b680-467d-9698-e3c7958777bf"
      },
      "execution_count": 2,
      "outputs": [
        {
          "output_type": "stream",
          "name": "stdout",
          "text": [
            "Height of the tree: 2\n"
          ]
        }
      ]
    },
    {
      "cell_type": "markdown",
      "source": [
        "## Analyze"
      ],
      "metadata": {
        "id": "yI0PRCeb6M-K"
      }
    },
    {
      "cell_type": "markdown",
      "source": [
        "1) Input size: is n, which is the number of nodes in the tree $=> T(n)$\n",
        "\n",
        "2) Basic operation: Checking if the current node is None\n",
        "\n",
        "3) Worse case: The worst case occurs when the binary tree is skewed (one-sided), like a linked list.\n",
        "\n",
        "4) $T(n) = 1 + 1 + ... + 1 = n$  $=> T(n) \\in Θ(n)$"
      ],
      "metadata": {
        "id": "XIU0G4k-6RKq"
      }
    },
    {
      "cell_type": "markdown",
      "source": [
        "# Exercise 3"
      ],
      "metadata": {
        "id": "SiiYruCE6USa"
      }
    },
    {
      "cell_type": "markdown",
      "source": [
        "## Implement"
      ],
      "metadata": {
        "id": "rO0QiZDj6Wf6"
      }
    },
    {
      "cell_type": "code",
      "source": [
        "class TreeNode:\n",
        "    def __init__(self, value, left=None, right=None):\n",
        "        self.value = value\n",
        "        self.left = left\n",
        "        self.right = right\n",
        "\n",
        "def pre_order(node):\n",
        "    if node:\n",
        "        print(node.value, end=' ')\n",
        "        pre_order(node.left)\n",
        "        pre_order(node.right)\n",
        "\n",
        "def in_order(node):\n",
        "    if node:\n",
        "        in_order(node.left)\n",
        "        print(node.value, end=' ')\n",
        "        in_order(node.right)\n",
        "\n",
        "def post_order(node):\n",
        "    if node:\n",
        "        post_order(node.left)\n",
        "        post_order(node.right)\n",
        "        print(node.value, end=' ')\n",
        "\n",
        "node1 = TreeNode(1)\n",
        "node2 = TreeNode(2, node1, None)\n",
        "node3 = TreeNode(3, node2, TreeNode(4))\n",
        "\n",
        "print(\"Pre-order traversal:\")\n",
        "pre_order(node3)\n",
        "\n",
        "print(\"\\nIn-order traversal:\")\n",
        "in_order(node3)\n",
        "\n",
        "print(\"\\nPost-order traversal:\")\n",
        "post_order(node3)"
      ],
      "metadata": {
        "colab": {
          "base_uri": "https://localhost:8080/"
        },
        "id": "vFJ0ktC5-Er3",
        "outputId": "396d2efa-6867-48e1-f975-d765cc8c4c10"
      },
      "execution_count": 6,
      "outputs": [
        {
          "output_type": "stream",
          "name": "stdout",
          "text": [
            "Pre-order traversal:\n",
            "3 2 1 4 \n",
            "In-order traversal:\n",
            "1 2 3 4 \n",
            "Post-order traversal:\n",
            "1 2 4 3 "
          ]
        }
      ]
    },
    {
      "cell_type": "markdown",
      "source": [
        "## Analyze"
      ],
      "metadata": {
        "id": "A-7SbROj6YzL"
      }
    },
    {
      "cell_type": "markdown",
      "source": [
        "1) Input size: is n, which is the number of nodes in the tree $=> T(n)$\n",
        "\n",
        "2) Basic operation: checking if the current node is None\n",
        "\n",
        "3) Worse case: The worst case occurs when the binary tree is skewed (one-sided), like a linked list.\n",
        "\n",
        "4) $T(n) = 1 + 1 + ... + 1 = n$ $=> T(n) \\in Θ(n)$"
      ],
      "metadata": {
        "id": "08V62f6y6a7x"
      }
    },
    {
      "cell_type": "markdown",
      "source": [
        "# Exercise 4"
      ],
      "metadata": {
        "id": "nTRON4VV6eZq"
      }
    },
    {
      "cell_type": "markdown",
      "source": [
        "## Implement"
      ],
      "metadata": {
        "id": "du2kYDQA6gRK"
      }
    },
    {
      "cell_type": "code",
      "source": [
        "import math\n",
        "\n",
        "class Point:\n",
        "    def __init__(self, x, y):\n",
        "        self.x = x\n",
        "        self.y = y\n",
        "\n",
        "def brute_force(points):\n",
        "    min_dist = float('inf')\n",
        "    num_points = len(points)\n",
        "    for i in range(num_points):\n",
        "        for j in range(i + 1, num_points):\n",
        "            dist = math.sqrt((points[i].x - points[j].x) ** 2 + (points[i].y - points[j].y) ** 2)\n",
        "            min_dist = min(min_dist, dist)\n",
        "    return min_dist\n",
        "\n",
        "def closest_pair_rec(P, Q):\n",
        "    if len(P) <= 3:\n",
        "        return brute_force(P)\n",
        "\n",
        "    mid = len(P) // 2\n",
        "    mid_point = P[mid]\n",
        "\n",
        "    Q_left = [point for point in Q if point.x <= mid_point.x]\n",
        "    Q_right = [point for point in Q if point.x > mid_point.x]\n",
        "\n",
        "    d1 = closest_pair_rec(P[:mid], Q_left)\n",
        "    d2 = closest_pair_rec(P[mid:], Q_right)\n",
        "    d = min(d1, d2)\n",
        "\n",
        "    S = [point for point in Q if abs(point.x - mid_point.x) < d]\n",
        "\n",
        "    min_dist_sq = d ** 2\n",
        "    for i in range(len(S)):\n",
        "        for j in range(i + 1, len(S)):\n",
        "            if (S[j].y - S[i].y) ** 2 < min_dist_sq:\n",
        "                dist_sq = (S[j].x - S[i].x) ** 2 + (S[j].y - S[i].y) ** 2\n",
        "                min_dist_sq = min(min_dist_sq, dist_sq)\n",
        "\n",
        "    return math.sqrt(min_dist_sq)\n",
        "\n",
        "def efficient_closest_pair(points):\n",
        "    P = sorted(points, key=lambda point: point.x)\n",
        "    Q = sorted(points, key=lambda point: point.y)\n",
        "    return closest_pair_rec(P, Q)\n",
        "\n",
        "points = [Point(0, 0), Point(2, 2), Point(3, 1), Point(5, 4), Point(6, 5)]\n",
        "closest_distance = efficient_closest_pair(points)\n",
        "print(\"Closest pair distance:\", closest_distance)"
      ],
      "metadata": {
        "colab": {
          "base_uri": "https://localhost:8080/"
        },
        "id": "XdoRo2_06jJ5",
        "outputId": "113726af-297f-4d9c-da88-be0c5e965cb3"
      },
      "execution_count": 9,
      "outputs": [
        {
          "output_type": "stream",
          "name": "stdout",
          "text": [
            "Closest pair distance: 1.4142135623730951\n"
          ]
        }
      ]
    },
    {
      "cell_type": "markdown",
      "source": [
        "## Analyze"
      ],
      "metadata": {
        "id": "SP66f8ew6jVR"
      }
    },
    {
      "cell_type": "markdown",
      "source": [
        "1) Input size: n (number of points) $=> T(n)$\n",
        "\n",
        "2) Basic operation: Calculating the distance between pairs of points. The algorithm computes this for points in the strip and in the recursive calls.\n",
        "\n",
        "3) Worse case: No\n",
        "\n",
        "Because: We call recursively twice for the two halves of the list (each half about n/2 points) and the operation of creating arrays Q1 and Qr and calculating the distances in the strip is n\n",
        "\n",
        "4) We have:\n",
        "\n",
        "$T(n) = 2T(n/2) + n$\n",
        "\n",
        "$a = 2, b = 2, f(n) = n$ and $f(n)∈Θ(n^k )$, therefore $k=1$\n",
        "\n",
        "$b^k = 2^1 = 2$\n",
        "\n",
        "Therefore $a = b^k$\n",
        "\n",
        "According to Master theorem, we have:\n",
        "\n",
        "$T(n)∈Θ(n^k logn) = Θ(nlogn)$\n"
      ],
      "metadata": {
        "id": "cz8DIgW46luJ"
      }
    }
  ]
}