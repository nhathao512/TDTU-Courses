{
  "nbformat": 4,
  "nbformat_minor": 0,
  "metadata": {
    "colab": {
      "provenance": []
    },
    "kernelspec": {
      "name": "python3",
      "display_name": "Python 3"
    },
    "language_info": {
      "name": "python"
    }
  },
  "cells": [
    {
      "cell_type": "markdown",
      "source": [
        "$a. C_N$ = $C_{N/2} + 1000$\n",
        "\n",
        "$a = 1, b = 2, f(n) = 1000$ and $f(n) ∈ \\theta(n^k)$, therefore $k = 0$\n",
        "\n",
        "$$=> a = 1 = b^k = 2^0$$\n",
        "\n",
        "$$=> C_N ∈ \\theta(N^k logN) = \\theta(logN)$$"
      ],
      "metadata": {
        "id": "auxhbjbT2CYT"
      }
    },
    {
      "cell_type": "markdown",
      "source": [
        "$b. C_N$ = $3C_{N/2} + N$\n",
        "\n",
        "$a = 3, b = 2, f(n) = N$ and $f(n) ∈ \\theta(n^k)$, therefore $k = 1$\n",
        "\n",
        "$$=> a = 3 > b^k = 2^1$$\n",
        "\n",
        "$$=> C_N ∈ \\theta(N^{log_b a}) = \\theta(log_2 3)$$"
      ],
      "metadata": {
        "id": "ByH6pW5y3_9r"
      }
    },
    {
      "cell_type": "markdown",
      "source": [
        "$c. C_N$ = $2C_{N/2} + 1$\n",
        "\n",
        "$a = 2, b = 2, f(n) = 1$ and $f(n) ∈ \\theta(n^k)$, therefore $k = 0$\n",
        "\n",
        "$$=> a = 2 > b^k = 2^0$$\n",
        "\n",
        "$$=> C_N ∈ \\theta(N^{log_b a}) = \\theta(log_2 2)$$"
      ],
      "metadata": {
        "id": "CWJ67dNi41h8"
      }
    },
    {
      "cell_type": "markdown",
      "source": [
        "$d. C_N$ = $4C_{N/2} + N$\n",
        "\n",
        "$a = 4, b = 2, f(n) = N$ and $f(n) ∈ \\theta(n^k)$, therefore $k = 1$\n",
        "\n",
        "$$=> a = 4 > b^k = 2^1$$\n",
        "\n",
        "$$=> C_N ∈ \\theta(N^{log_b a}) = \\theta(log_2 4)$$"
      ],
      "metadata": {
        "id": "fWJb4ShG5CcL"
      }
    },
    {
      "cell_type": "markdown",
      "source": [
        "$e. C_N$ = $9C_{N/3} + N$\n",
        "\n",
        "$a = 9, b = 3, f(n) = N$ and $f(n) ∈ \\theta(n^k)$, therefore $k = 1$\n",
        "\n",
        "$$=> a = 9 > b^k = 3^1$$\n",
        "\n",
        "$$=> C_N ∈ \\theta(N^{log_b a}) = \\theta(log_3 9)$$"
      ],
      "metadata": {
        "id": "o5zbwtCC5SjM"
      }
    },
    {
      "cell_type": "markdown",
      "source": [
        "$f. C_N$ = $C_{2N/3} + 1$\n",
        "\n",
        "$a = 1, b = {3/2}, f(n) = 1$ and $f(n) ∈ \\theta(n^k)$, therefore $k = 0$\n",
        "\n",
        "$$=> a = 1 = b^k = {3/2}^0$$\n",
        "\n",
        "$$=> C_N ∈ \\theta(N^k logN) = \\theta(logN)$$"
      ],
      "metadata": {
        "id": "EiSAjPoO5pHF"
      }
    },
    {
      "cell_type": "markdown",
      "source": [
        "$g. C_N$ = $3C_{N/4} + N^2$\n",
        "\n",
        "$a = 3, b = 4, f(n) = N^2$ and $f(n) ∈ \\theta(n^k)$, therefore $k = 2$\n",
        "\n",
        "$$=> a = 3 < b^k = 4^2$$\n",
        "\n",
        "$$=> C_N ∈ \\theta(N^k) = \\theta(N^2)$$"
      ],
      "metadata": {
        "id": "3KzL4XP76xUd"
      }
    },
    {
      "cell_type": "markdown",
      "source": [
        "$h. T_{n}$ = $T_{n/3} + 2T_{n/3} + \\sqrt{n}$\n",
        "\n",
        "$a = 3, b = 3, f(n) = \\sqrt{n}$ and $f(n) ∈ \\theta(n^k)$, therefore $k = 1/2$\n",
        "\n",
        "$$=> a = 3 > b^k = 3^{1/2}$$\n",
        "\n",
        "$$=> C_N ∈ \\theta(N^k{log_b a}) = \\theta(N^{log_3 3})$$"
      ],
      "metadata": {
        "id": "IQSjvrgf7FSN"
      }
    },
    {
      "cell_type": "markdown",
      "source": [
        "$i. T_{n}$ = $T_{n/3} + 2T_{n/3} + n^{2.5}$\n",
        "\n",
        "$a = 3, b = 3, f(n) = n^{2.5}$ and $f(n) ∈ \\theta(n^k)$, therefore $k = 2.5$\n",
        "\n",
        "$$=> a = 3 < b^k = 3^{2.5}$$\n",
        "\n",
        "$$=> C_N ∈ \\theta(N^k) = \\theta(N^{2.5})$$"
      ],
      "metadata": {
        "id": "SOd5me9M8SF-"
      }
    },
    {
      "cell_type": "markdown",
      "source": [
        "$j. T_{n}$ = $T_{n/3} + 2T_{n/3} + n^{3}$\n",
        "\n",
        "$a = 3, b = 3, f(n) = n^{3}$ and $f(n) ∈ \\theta(n^k)$, therefore $k = 3$\n",
        "\n",
        "$$=> a = 3 < b^k = 3^{3}$$\n",
        "\n",
        "$$=> C_N ∈ \\theta(N^k) = \\theta(N^{3})$$"
      ],
      "metadata": {
        "id": "FXMneR2Z8zFH"
      }
    },
    {
      "cell_type": "markdown",
      "source": [
        "$k. T_n$ = $T(n/3) + 2T(n/3) + 5^{3}$\n",
        "\n",
        "$a = 3, b = 3, f(n) = 5^{3}$ and $f(n) ∈ \\theta(n^k)$, therefore $k = 0$\n",
        "\n",
        "$$=> a = 3 > b^k = 3^0$$\n",
        "\n",
        "$$=> C_N ∈ \\theta(N^{log_b a}) = \\theta(N^{log_3 3})$$"
      ],
      "metadata": {
        "id": "Y4rEtMu987dt"
      }
    },
    {
      "cell_type": "markdown",
      "source": [
        "$l. T_n$ = $T(n/3) + 2T(n/3) + n$ x $n$\n",
        "\n",
        "$a = 3, b = 3, f(n) = n$ x $n$ and $f(n) ∈ \\theta(n^k)$, therefore $k = 2$\n",
        "\n",
        "$$=> a = 3 < b^k = 3^2$$\n",
        "\n",
        "$$=> C_N ∈ \\theta(N^k) = \\theta(N^2)$$"
      ],
      "metadata": {
        "id": "t59UbxlE9Qwm"
      }
    }
  ]
}