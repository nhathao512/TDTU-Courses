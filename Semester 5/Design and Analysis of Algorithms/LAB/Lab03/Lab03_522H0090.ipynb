{
  "nbformat": 4,
  "nbformat_minor": 0,
  "metadata": {
    "colab": {
      "provenance": []
    },
    "kernelspec": {
      "name": "python3",
      "display_name": "Python 3"
    },
    "language_info": {
      "name": "python"
    }
  },
  "cells": [
    {
      "cell_type": "markdown",
      "source": [
        "# a. \tExponential power"
      ],
      "metadata": {
        "id": "aSlYsE_92YIF"
      }
    },
    {
      "cell_type": "markdown",
      "source": [
        "## Design:"
      ],
      "metadata": {
        "id": "N9axNlj03DN9"
      }
    },
    {
      "cell_type": "code",
      "source": [
        "def a_pow(a, n):\n",
        "  \"\"\"\n",
        "  n(int) - input value\n",
        "  a(int) - return value a^n\n",
        "  \"\"\"\n",
        "  result = 1\n",
        "  for _ in range(n):\n",
        "    result *= a\n",
        "  return result"
      ],
      "metadata": {
        "id": "UZzoLpBs2hFe"
      },
      "execution_count": null,
      "outputs": []
    },
    {
      "cell_type": "code",
      "source": [
        "a_pow(2, 3)"
      ],
      "metadata": {
        "colab": {
          "base_uri": "https://localhost:8080/"
        },
        "id": "9_avKomf4WUO",
        "outputId": "faee0144-fdb5-42ae-a6ed-2f654f12cb62"
      },
      "execution_count": null,
      "outputs": [
        {
          "output_type": "execute_result",
          "data": {
            "text/plain": [
              "8"
            ]
          },
          "metadata": {},
          "execution_count": 23
        }
      ]
    },
    {
      "cell_type": "markdown",
      "source": [
        "## Analysis:"
      ],
      "metadata": {
        "id": "05f8sJAf3Jkc"
      }
    },
    {
      "cell_type": "markdown",
      "source": [
        "1) input size: $a, n => T(a,n)$\n",
        "\n",
        "2) Basic operation: multiplication on line 8\n",
        "\n",
        "3) Worst case: no\n",
        "\n",
        "4) $T(a, n) =  θ(n)$"
      ],
      "metadata": {
        "id": "VyOKhHfv83zz"
      }
    },
    {
      "cell_type": "markdown",
      "source": [
        "# b. \tCombination"
      ],
      "metadata": {
        "id": "kI66iCNR89QT"
      }
    },
    {
      "cell_type": "markdown",
      "source": [
        "## Design:"
      ],
      "metadata": {
        "id": "juk4oj_N9AJ7"
      }
    },
    {
      "cell_type": "code",
      "source": [
        "def r_factorial(n):\n",
        "  \"\"\"\n",
        "  n(int) - input value\n",
        "  a(int) - return value n!\n",
        "  \"\"\"\n",
        "  result = 1\n",
        "  for i in range(1, n+1):\n",
        "    result *= i\n",
        "  return result\n",
        "\n",
        "def combination(n, k):\n",
        "  \"\"\"\n",
        "  n(int) - input value\n",
        "  k(int) - return value nCk\n",
        "  \"\"\"\n",
        "  if n < k:\n",
        "    return 0\n",
        "\n",
        "  if k == 0:\n",
        "    return 1\n",
        "\n",
        "  return r_factorial(n) / (r_factorial(k) * r_factorial(n-k))"
      ],
      "metadata": {
        "id": "4gxcrQZD-ZVr"
      },
      "execution_count": null,
      "outputs": []
    },
    {
      "cell_type": "code",
      "source": [
        "combination(5, 5)"
      ],
      "metadata": {
        "colab": {
          "base_uri": "https://localhost:8080/"
        },
        "id": "p0Q8OHfR9DeU",
        "outputId": "67f3ab16-515c-4c17-a922-bc29c49a09be"
      },
      "execution_count": null,
      "outputs": [
        {
          "output_type": "execute_result",
          "data": {
            "text/plain": [
              "1.0"
            ]
          },
          "metadata": {},
          "execution_count": 36
        }
      ]
    },
    {
      "cell_type": "markdown",
      "source": [
        "## Analysis"
      ],
      "metadata": {
        "id": "j7mgCdnb9Cpr"
      }
    },
    {
      "cell_type": "markdown",
      "source": [
        "Function: r_factorial\n",
        "\n",
        "1) input size: $n => T(n)$\n",
        "\n",
        "2) Basic operation: multiplication on line 8\n",
        "\n",
        "3) Worst case: The worst case is the average case too, because the algorithm runs the same in all situations\n",
        "\n",
        "4) $T(n) = n = θ(n)$\n",
        "\n",
        "Function: combination\n",
        "\n",
        "1) input size: $n, k => T(n, k)$\n",
        "\n",
        "2) Basic operation: division on line 22\n",
        "\n",
        "3) Worst case:\n",
        "\n",
        "4) $T(n,k) =  T(n) + T(k) + T(n-k) = θ(n) + θ(k) + θ(n-k)$"
      ],
      "metadata": {
        "id": "HQMr_bu7AoH7"
      }
    },
    {
      "cell_type": "markdown",
      "source": [
        "# c. \tMatrix multiplication"
      ],
      "metadata": {
        "id": "EKsNuxwpDSQp"
      }
    },
    {
      "cell_type": "markdown",
      "source": [
        "## Design"
      ],
      "metadata": {
        "id": "O6lCqXcBDVCx"
      }
    },
    {
      "cell_type": "code",
      "source": [
        "def matrix_multiplication(A, B):\n",
        "  \"\"\"\n",
        "  A(list) - input matrix\n",
        "  B(list) - input matrix\n",
        "  C(list) - return matrix\n",
        "  \"\"\"\n",
        "  C = [[0 for _ in range(len(B[0]))] for _ in range(len(A))]\n",
        "  for i in range(len(A)):\n",
        "    for j in range(len(B[0])):\n",
        "      for k in range(len(B)):\n",
        "        C[i][j] += A[i][k] * B[k][j]\n",
        "\n",
        "  return C"
      ],
      "metadata": {
        "id": "wGObuHl6DW65"
      },
      "execution_count": null,
      "outputs": []
    },
    {
      "cell_type": "code",
      "source": [
        "matrix_multiplication([[1, 2], [3, 4]], [[5, 6], [7, 8]])"
      ],
      "metadata": {
        "colab": {
          "base_uri": "https://localhost:8080/"
        },
        "id": "fp3PNA0-DobA",
        "outputId": "6c065d62-f8cc-4927-d821-f6c98baa3a0f"
      },
      "execution_count": null,
      "outputs": [
        {
          "output_type": "execute_result",
          "data": {
            "text/plain": [
              "[[19, 22], [43, 50]]"
            ]
          },
          "metadata": {},
          "execution_count": 38
        }
      ]
    },
    {
      "cell_type": "markdown",
      "source": [
        "## Analysis"
      ],
      "metadata": {
        "id": "SpCP86TzDXVI"
      }
    },
    {
      "cell_type": "markdown",
      "source": [
        "1) input size: $A[...], B[...] => T(A[...],B[...])$\n",
        "\n",
        "2) Basic operation: multiplication on line 11\n",
        "\n",
        "3) Worst case: The algorithm always performs the same number of operations for a given input size, so the worst-case scenario is the same as the average case.\n",
        "\n",
        "4) Time Complexity:\n",
        "   - The outer two loops iterate from 0 to n-1, which is $O(n^2)$.\n",
        "   - The innermost loop also iterates from 0 to n-1, which is $O(n)$.\n",
        "   - Therefore, the overall time complexity is $O(n^2 * n) = O(n^3).$\n",
        "\n",
        "$$ T(A[...],B[...]) ∈  O(n^3)$$"
      ],
      "metadata": {
        "id": "lt-oW-QADaKY"
      }
    },
    {
      "cell_type": "markdown",
      "source": [
        "# d. \tNearest pair (closest pair)"
      ],
      "metadata": {
        "id": "w-ehH3kvFoNA"
      }
    },
    {
      "cell_type": "markdown",
      "source": [
        "## Design"
      ],
      "metadata": {
        "id": "ba-ZuKW4Fqov"
      }
    },
    {
      "cell_type": "code",
      "source": [
        "import math\n",
        "\n",
        "def squared_distance(A, B):\n",
        "    d = 0.0\n",
        "    for i in range(len(A)):\n",
        "        d += (A[i] - B[i]) ** 2\n",
        "    return d\n",
        "\n",
        "def closest_pair(s):\n",
        "    points = len(s)\n",
        "    dmin = float('inf')\n",
        "    im = -1\n",
        "    jm = -1\n",
        "\n",
        "    for i in range(points - 1):\n",
        "        for j in range(i + 1, points):\n",
        "            d = squared_distance(s[i], s[j])\n",
        "            if d < dmin:\n",
        "                dmin = d\n",
        "                im = i\n",
        "                jm = j\n",
        "\n",
        "    return [s[im], s[jm]]"
      ],
      "metadata": {
        "id": "wxkXpo_wFtY6"
      },
      "execution_count": 3,
      "outputs": []
    },
    {
      "cell_type": "code",
      "source": [
        "s = [[1, 30], [13, 0], [40, 5], [5, 1], [12, 10], [3, 4]]\n",
        "closest_pair(s)"
      ],
      "metadata": {
        "colab": {
          "base_uri": "https://localhost:8080/"
        },
        "id": "8MwJ8mmbHBJR",
        "outputId": "aa66ce5d-ab27-49f5-b5f5-a4ce551a4801"
      },
      "execution_count": 4,
      "outputs": [
        {
          "output_type": "execute_result",
          "data": {
            "text/plain": [
              "[[5, 1], [3, 4]]"
            ]
          },
          "metadata": {},
          "execution_count": 4
        }
      ]
    },
    {
      "cell_type": "markdown",
      "source": [
        "## Analysis"
      ],
      "metadata": {
        "id": "letpCPkNHenp"
      }
    },
    {
      "cell_type": "markdown",
      "source": [
        "Function: squared_distance\n",
        "\n",
        "1) input size: is the number of dimensions of points (d)\n",
        "\n",
        "2) Basic operation: power on line 9\n",
        "\n",
        "3) Worst case: no\n",
        "\n",
        "4) $T(d) = d$\n",
        "\n",
        "Function: closest_pair\n",
        "\n",
        "1) input size: is a tuple of n,d, where n - the number of points, d - number of dimensions\n",
        "\n",
        "2) Basic operation: comparation on line 28\n",
        "\n",
        "3) Worst case: no\n",
        "\n",
        "4) Count:\n",
        "\n",
        "when $i=0, (n-1)×d$ $ops$\n",
        "\n",
        "when $i=1, (n-2)×d$ $ops$\n",
        "\n",
        "…\n",
        "\n",
        "when $i=n-2, 1×d$ $ops$\n",
        "\n",
        "$T(n,d)=d(1+⋯+n-2+n-1)$\n",
        "\n",
        "$T(n,d)=d(n-1)n/2$\n",
        "\n",
        "$T(n,d)∈Θ(dn^2) $"
      ],
      "metadata": {
        "id": "cFiQSDmpHgaA"
      }
    },
    {
      "cell_type": "markdown",
      "source": [
        "#e. \tConvex hull"
      ],
      "metadata": {
        "id": "ib5-qEfLJkbp"
      }
    },
    {
      "cell_type": "markdown",
      "source": [
        "# Design:"
      ],
      "metadata": {
        "id": "3qi1FVouJoaX"
      }
    },
    {
      "cell_type": "code",
      "source": [
        "def convex_hull(points):\n",
        "  \"\"\"\n",
        "  points(list) - input value\n",
        "  convex_hull_points(list) - return value\n",
        "  \"\"\"\n",
        "  n = len(points)\n",
        "  convex_hull_points = []\n",
        "\n",
        "  for i in range(n - 1):\n",
        "    for j in range(i + 1, n):\n",
        "      x1, y1 = points[i]\n",
        "      x2, y2 = points[j]\n",
        "\n",
        "      is_convex = True\n",
        "      for k in range(n):\n",
        "        if k != i and k != j:\n",
        "          x0, y0 = points[k]\n",
        "          if (y1 - y2) * x0 + (x2 - x1) * y0 + (x1 * y2 - x2 * y1) <= 0:\n",
        "            is_convex = False\n",
        "            break\n",
        "\n",
        "      if is_convex:\n",
        "        convex_hull_points.append(points[i])\n",
        "        convex_hull_points.append(points[j])\n",
        "\n",
        "  return list(set(convex_hull_points))\n"
      ],
      "metadata": {
        "id": "0KTg1ijqzKLk"
      },
      "execution_count": 20,
      "outputs": []
    },
    {
      "cell_type": "code",
      "source": [
        "points = [(0, 3), (2, 3), (1, 1), (2, 1), (3, 0), (0, 0), (3, 3)]\n",
        "convex_hull(points)"
      ],
      "metadata": {
        "colab": {
          "base_uri": "https://localhost:8080/"
        },
        "id": "8Bdc4VjHzqQS",
        "outputId": "5a82a538-aac4-4fc3-d07e-cd7e3c7af151"
      },
      "execution_count": 22,
      "outputs": [
        {
          "output_type": "execute_result",
          "data": {
            "text/plain": [
              "[(3, 3), (0, 3), (3, 0), (0, 0)]"
            ]
          },
          "metadata": {},
          "execution_count": 22
        }
      ]
    },
    {
      "cell_type": "markdown",
      "source": [
        "## Analysis:\n",
        "\n",
        "1) input size: $n => T(n)$\n",
        "\n",
        "2) Basic operation: division on line 8\n",
        "\n",
        "3) Worst case: no\n",
        "\n",
        "4) Time Complexity:\n",
        "- Outer Loop: The first loop iterates through each point i (n iterations).\n",
        "\n",
        "- Inner Loop: The second loop iterates through each point j (n-1 iterations).\n",
        "\n",
        "- Third Loop: The innermost loop checks each point k (n-2 iterations).\n",
        "\n",
        "$T(n) =$ $n^2$ x $(n - 2)$ = $θ(n^3) $\n",
        "\n",
        "\n"
      ],
      "metadata": {
        "id": "E6wNoMY2JtpW"
      }
    },
    {
      "cell_type": "markdown",
      "source": [
        "# f. \tTravelling Salesman Problem"
      ],
      "metadata": {
        "id": "F_mrrMfxMUZu"
      }
    },
    {
      "cell_type": "markdown",
      "source": [
        "## Design:"
      ],
      "metadata": {
        "id": "YBJKTo6PMVp9"
      }
    },
    {
      "cell_type": "code",
      "source": [
        "import itertools\n",
        "\n",
        "def travelling_salesman(graph, start):\n",
        "    vertices = list(graph.keys())\n",
        "    vertices.remove(start)\n",
        "\n",
        "    min_weight = float('inf')\n",
        "    best_path = []\n",
        "\n",
        "    for perm in itertools.permutations(vertices):\n",
        "        current_path = [start] + list(perm) + [start]\n",
        "        current_weight = 0\n",
        "\n",
        "        for i in range(len(current_path) - 1):\n",
        "            u, v = current_path[i], current_path[i + 1]\n",
        "            current_weight += graph[u][v]\n",
        "\n",
        "        if current_weight < min_weight:\n",
        "            min_weight = current_weight\n",
        "            best_path = current_path\n",
        "\n",
        "    return best_path, min_weight"
      ],
      "metadata": {
        "id": "o6H5tA_0MZTX"
      },
      "execution_count": 24,
      "outputs": []
    },
    {
      "cell_type": "code",
      "source": [
        "graph = {\n",
        "    'A': {'B': 10, 'C': 15, 'D': 20},\n",
        "    'B': {'A': 10, 'C': 35, 'D': 25},\n",
        "    'C': {'A': 15, 'B': 35, 'D': 30},\n",
        "    'D': {'A': 20, 'B': 25, 'C': 30}\n",
        "}\n",
        "\n",
        "start = 'A'\n",
        "best_path, min_weight = travelling_salesman(graph, start)\n",
        "print(f\"The best path is: {best_path}\")\n",
        "print(f\"The minimal weight is: {min_weight}\")"
      ],
      "metadata": {
        "colab": {
          "base_uri": "https://localhost:8080/"
        },
        "id": "NcnfZjnJNKL-",
        "outputId": "8fe8fabd-c65e-4977-f7bf-5f09693616e3"
      },
      "execution_count": 25,
      "outputs": [
        {
          "output_type": "stream",
          "name": "stdout",
          "text": [
            "The best path is: ['A', 'B', 'D', 'C', 'A']\n",
            "The minimal weight is: 80\n"
          ]
        }
      ]
    },
    {
      "cell_type": "markdown",
      "source": [
        "## Analysis:\n",
        "\n",
        "1) input size: is primarily the number of vertices: n $ => T(n)$\n",
        "\n",
        "2) Basic operation: comperation on line 18\n",
        "\n",
        "3) Worst case: The worst case occurs when we need to evaluate all possible permutations of the vertices, which is what the brute force approach does.\n",
        "\n",
        "4) $T(n) = n!$ x $n = θ(n!)$"
      ],
      "metadata": {
        "id": "hza8kkmOMZkm"
      }
    },
    {
      "cell_type": "markdown",
      "source": [
        "# g. \tKnapsack Problem"
      ],
      "metadata": {
        "id": "j4hUSmi-MdQd"
      }
    },
    {
      "cell_type": "markdown",
      "source": [
        "## Design:"
      ],
      "metadata": {
        "id": "rc24K_YaMf2V"
      }
    },
    {
      "cell_type": "code",
      "source": [
        "from itertools import combinations\n",
        "\n",
        "def knapsack_brute_force(weights, values, capacity):\n",
        "    n = len(weights)\n",
        "    max_value = 0\n",
        "    best_combination = []\n",
        "\n",
        "    for r in range(n + 1):\n",
        "        for subset in combinations(range(n), r):\n",
        "            total_weight = sum(weights[i] for i in subset)\n",
        "            total_value = sum(values[i] for i in subset)\n",
        "\n",
        "            if total_weight <= capacity and total_value > max_value:\n",
        "                max_value = total_value\n",
        "                best_combination = subset\n",
        "\n",
        "    return best_combination, max_value"
      ],
      "metadata": {
        "id": "PXkOvoNAMhX9"
      },
      "execution_count": 26,
      "outputs": []
    },
    {
      "cell_type": "code",
      "source": [
        "weights = [2, 3, 4, 5]\n",
        "values = [3, 4, 5, 6]\n",
        "capacity = 5\n",
        "\n",
        "best_items, max_value = knapsack_brute_force(weights, values, capacity)\n",
        "print(f\"Best items: {best_items}, Max value: {max_value}\")"
      ],
      "metadata": {
        "colab": {
          "base_uri": "https://localhost:8080/"
        },
        "id": "wx9KC-RFOTV9",
        "outputId": "ece47aa8-d156-4366-f227-64732190af7c"
      },
      "execution_count": 28,
      "outputs": [
        {
          "output_type": "stream",
          "name": "stdout",
          "text": [
            "Best items: (0, 1), Max value: 7\n"
          ]
        }
      ]
    },
    {
      "cell_type": "markdown",
      "source": [
        "## Analysis:\n",
        "\n",
        "1) input size: $n => T(n)$\n",
        "\n",
        "2) Basic operation: comperation on line 12\n",
        "\n",
        "3) Worst case: All $2^n$ possible subsets of items are generated and evaluated.\n",
        "\n",
        "4) $T(n) = 2^n$ x $n = θ(2^n)$"
      ],
      "metadata": {
        "id": "OpVSe6VhMhxl"
      }
    }
  ]
}