{
  "nbformat": 4,
  "nbformat_minor": 0,
  "metadata": {
    "colab": {
      "provenance": [],
      "toc_visible": true
    },
    "kernelspec": {
      "name": "python3",
      "display_name": "Python 3"
    },
    "language_info": {
      "name": "python"
    }
  },
  "cells": [
    {
      "cell_type": "markdown",
      "source": [
        "#Exercises 1"
      ],
      "metadata": {
        "id": "_jknoLNIuT8A"
      }
    },
    {
      "cell_type": "markdown",
      "source": [
        "##Algorithrm"
      ],
      "metadata": {
        "id": "G_3D1Z2zuyep"
      }
    },
    {
      "cell_type": "code",
      "source": [
        "def sumX(n):\n",
        "  \"\"\"\n",
        "    this fuction is used to find the sum of the following series\n",
        "      X = 1/(1-2^2) + 1/(1-3^3) +⋯+ 1/(1-n^n)\n",
        "    input: n - non-negative integer\n",
        "    output: X\n",
        "  \"\"\"\n",
        "  result = 0\n",
        "  for i in range(2, n+1):\n",
        "    result = result + 1/(1-i**i)\n",
        "  return result"
      ],
      "metadata": {
        "id": "X0MzizsIuptX"
      },
      "execution_count": null,
      "outputs": []
    },
    {
      "cell_type": "code",
      "source": [
        "sumX(2)"
      ],
      "metadata": {
        "colab": {
          "base_uri": "https://localhost:8080/"
        },
        "id": "PrhAvqvSxf7c",
        "outputId": "eeddf515-c25e-44de-d665-8792489b3a94"
      },
      "execution_count": null,
      "outputs": [
        {
          "output_type": "execute_result",
          "data": {
            "text/plain": [
              "-0.3333333333333333"
            ]
          },
          "metadata": {},
          "execution_count": 21
        }
      ]
    },
    {
      "cell_type": "code",
      "source": [
        "sumX(5)"
      ],
      "metadata": {
        "colab": {
          "base_uri": "https://localhost:8080/"
        },
        "id": "YKSJwpTlzNoi",
        "outputId": "d49ee678-28e0-4357-a0f4-7a69d8fc9f11"
      },
      "execution_count": null,
      "outputs": [
        {
          "output_type": "execute_result",
          "data": {
            "text/plain": [
              "-0.37603654285510124"
            ]
          },
          "metadata": {},
          "execution_count": 24
        }
      ]
    },
    {
      "cell_type": "markdown",
      "source": [
        "## Analysis"
      ],
      "metadata": {
        "id": "d4Q40lZjvw5F"
      }
    },
    {
      "cell_type": "markdown",
      "source": [
        "1) Input size $n => T(n)$\n",
        "\n",
        "2) Basis operator: \"/, **, +, -\" on line 10\n",
        "\n",
        "3) Worst cases: no\n",
        "\n",
        "4) $T(n) = 1+1+...+1 = n$"
      ],
      "metadata": {
        "id": "9MvblK_Hz166"
      }
    },
    {
      "cell_type": "markdown",
      "source": [
        "# Exercise 2"
      ],
      "metadata": {
        "id": "-xe3GyX_1qnC"
      }
    },
    {
      "cell_type": "markdown",
      "source": [
        "## Algorithrm"
      ],
      "metadata": {
        "id": "0KuNI0VG1vZf"
      }
    },
    {
      "cell_type": "code",
      "source": [
        "def sumY(m, n):\n",
        "  \"\"\"\n",
        "    this fuction is used to find the sum of the following series\n",
        "      Y = 1/(1+m) - 1/(1+m^2) + 1/(1+m^3 ) -…+ (-1)^(n+1) * 1/(1+m^n)\n",
        "    input: n - non-negative integer\n",
        "    output: Y\n",
        "  \"\"\"\n",
        "  result = 0\n",
        "  for i in range(1, n+1):\n",
        "    result = result + (-1)**(i+1) * 1/(1+m**i)\n",
        "  return result"
      ],
      "metadata": {
        "id": "KE7baROP12Y4"
      },
      "execution_count": null,
      "outputs": []
    },
    {
      "cell_type": "code",
      "source": [
        "sumY(2, 1)"
      ],
      "metadata": {
        "colab": {
          "base_uri": "https://localhost:8080/"
        },
        "id": "sP0isfNO2Boz",
        "outputId": "e1c9d1b4-ab57-4aa1-bf47-712ee9dc3362"
      },
      "execution_count": null,
      "outputs": [
        {
          "output_type": "execute_result",
          "data": {
            "text/plain": [
              "0.3333333333333333"
            ]
          },
          "metadata": {},
          "execution_count": 21
        }
      ]
    },
    {
      "cell_type": "code",
      "source": [
        "sumY(3, 2)"
      ],
      "metadata": {
        "colab": {
          "base_uri": "https://localhost:8080/"
        },
        "id": "2lifTbsP2Cjo",
        "outputId": "4bea90b7-71ab-464d-c71f-f807d15fafb0"
      },
      "execution_count": null,
      "outputs": [
        {
          "output_type": "execute_result",
          "data": {
            "text/plain": [
              "0.15"
            ]
          },
          "metadata": {},
          "execution_count": 80
        }
      ]
    },
    {
      "cell_type": "markdown",
      "source": [
        "## Analysis"
      ],
      "metadata": {
        "id": "8TkufNpK2DJz"
      }
    },
    {
      "cell_type": "markdown",
      "source": [
        "1) Input size $n => T(n)$\n",
        "\n",
        "2) Basis operator: \"/, **, *, +, -\" on line 10\n",
        "\n",
        "3) Worst cases: no\n",
        "\n",
        "4) $T(n) = 1+1+...+1 = n$"
      ],
      "metadata": {
        "id": "3q4d9vj62Jwh"
      }
    },
    {
      "cell_type": "markdown",
      "source": [
        "# Exercise 3"
      ],
      "metadata": {
        "id": "9PL_BdTI74iM"
      }
    },
    {
      "cell_type": "markdown",
      "source": [
        "## Algorithrm"
      ],
      "metadata": {
        "id": "L4vYFqig8AAV"
      }
    },
    {
      "cell_type": "code",
      "source": [
        "def sumZ(n):\n",
        "  \"\"\"\n",
        "    this fuction is used to find the sum of the following series\n",
        "      Z = 1^3 + 2^3 + 3^3 +⋯+ n^3\n",
        "    input: n - non-negative integer\n",
        "    output: Z\n",
        "  \"\"\"\n",
        "  result = 0\n",
        "  for i in range(1, n+1):\n",
        "    result = result + i**3\n",
        "  return result"
      ],
      "metadata": {
        "id": "yS64US4P8ESl"
      },
      "execution_count": null,
      "outputs": []
    },
    {
      "cell_type": "code",
      "source": [
        "sumZ(1)"
      ],
      "metadata": {
        "colab": {
          "base_uri": "https://localhost:8080/"
        },
        "id": "MLJJ1eif8fZT",
        "outputId": "4d46bdea-8276-4aca-c308-afc559e768b7"
      },
      "execution_count": null,
      "outputs": [
        {
          "output_type": "execute_result",
          "data": {
            "text/plain": [
              "1"
            ]
          },
          "metadata": {},
          "execution_count": 48
        }
      ]
    },
    {
      "cell_type": "code",
      "source": [
        "sumZ(3)"
      ],
      "metadata": {
        "colab": {
          "base_uri": "https://localhost:8080/"
        },
        "id": "lZv7fCOQ8jI7",
        "outputId": "18afcf62-e4a7-4796-c1a5-67e35a104368"
      },
      "execution_count": null,
      "outputs": [
        {
          "output_type": "execute_result",
          "data": {
            "text/plain": [
              "36"
            ]
          },
          "metadata": {},
          "execution_count": 49
        }
      ]
    },
    {
      "cell_type": "markdown",
      "source": [
        "## Analysis"
      ],
      "metadata": {
        "id": "xnWJeXzg8_SS"
      }
    },
    {
      "cell_type": "markdown",
      "source": [
        "1) Input size $n => T(n)$\n",
        "\n",
        "2) Basis operator: \"+, **\" on line 10\n",
        "\n",
        "3) Worst cases: no\n",
        "\n",
        "4) $T(n) = 1+1+...+1 = n$"
      ],
      "metadata": {
        "id": "6fJM9I6P9FVS"
      }
    },
    {
      "cell_type": "markdown",
      "source": [
        "# Exercise 4"
      ],
      "metadata": {
        "id": "kkPlk98R-Adb"
      }
    },
    {
      "cell_type": "markdown",
      "source": [
        "## Algorithrm"
      ],
      "metadata": {
        "id": "QP4BuWzW-oOh"
      }
    },
    {
      "cell_type": "code",
      "source": [
        "def fac(n):\n",
        "    \"\"\"\n",
        "    this function is used to compute the factorial of n (n!)\n",
        "    input: n - non-negative integer\n",
        "    output: n!\n",
        "    \"\"\"\n",
        "    result = 1\n",
        "    for i in range(1, n+1):\n",
        "        result = result * i\n",
        "    return result"
      ],
      "metadata": {
        "id": "dSa3FVJ1-rKy"
      },
      "execution_count": null,
      "outputs": []
    },
    {
      "cell_type": "code",
      "source": [
        "fac(1)"
      ],
      "metadata": {
        "colab": {
          "base_uri": "https://localhost:8080/"
        },
        "id": "MJ893zIC-tj5",
        "outputId": "e1162f3e-936f-4042-d781-23bbf00f379e"
      },
      "execution_count": null,
      "outputs": [
        {
          "output_type": "execute_result",
          "data": {
            "text/plain": [
              "1"
            ]
          },
          "metadata": {},
          "execution_count": 59
        }
      ]
    },
    {
      "cell_type": "code",
      "source": [
        "fac(3)"
      ],
      "metadata": {
        "colab": {
          "base_uri": "https://localhost:8080/"
        },
        "id": "9qsKsMxo-vaJ",
        "outputId": "acd2963a-1699-4a16-b629-25fba1a0bead"
      },
      "execution_count": null,
      "outputs": [
        {
          "output_type": "execute_result",
          "data": {
            "text/plain": [
              "6"
            ]
          },
          "metadata": {},
          "execution_count": 60
        }
      ]
    },
    {
      "cell_type": "markdown",
      "source": [
        "## Analysis"
      ],
      "metadata": {
        "id": "JIrE1jZD-0i5"
      }
    },
    {
      "cell_type": "markdown",
      "source": [
        "1) Input size $n => T(n)$\n",
        "\n",
        "2) Basic operation: \"*\" on line 9\n",
        "\n",
        "3) Worst cases: no\n",
        "\n",
        "4) $T(n) = 1 + 1+ + ....+ 1 = n$"
      ],
      "metadata": {
        "id": "UvLX0NMK-37B"
      }
    },
    {
      "cell_type": "markdown",
      "source": [
        "# Exercise 5"
      ],
      "metadata": {
        "id": "pYABBY4N-HNy"
      }
    },
    {
      "cell_type": "markdown",
      "source": [
        "## Algorithrm"
      ],
      "metadata": {
        "id": "jXVdF5ki_HqA"
      }
    },
    {
      "cell_type": "code",
      "source": [
        "def check(arr):\n",
        "  \"\"\"\n",
        "    this function is used to check whether all elements in an array are distinct.\n",
        "    input: arr - an array\n",
        "    output: if all elements in an array are distinct, return True\n",
        "            otherwise return False\n",
        "  \"\"\"\n",
        "  arr.sort()\n",
        "  for i in range(1, len(arr)):\n",
        "      if arr[i] == arr[i - 1]:\n",
        "          return False\n",
        "  return True"
      ],
      "metadata": {
        "id": "58TJRd98_HPB"
      },
      "execution_count": null,
      "outputs": []
    },
    {
      "cell_type": "code",
      "source": [
        "arr1 = [3, 1, 4, 2, 5, 6]\n",
        "result1 = check(arr1)\n",
        "print(\"Are all elements in array1 distinct?\", result1)"
      ],
      "metadata": {
        "colab": {
          "base_uri": "https://localhost:8080/"
        },
        "id": "5lAbiJ9aABWQ",
        "outputId": "ae6bae39-d98f-469c-c94b-3ca2b68d0c86"
      },
      "execution_count": null,
      "outputs": [
        {
          "output_type": "stream",
          "name": "stdout",
          "text": [
            "Are all elements in array1 distinct? True\n"
          ]
        }
      ]
    },
    {
      "cell_type": "code",
      "source": [
        "arr2 = [3, 1, 4, 2, 5, 2]\n",
        "result2 = check(arr2)\n",
        "print(\"Are all elements in array2 distinct?\", result2)"
      ],
      "metadata": {
        "colab": {
          "base_uri": "https://localhost:8080/"
        },
        "id": "rJvXZ-XoE2QW",
        "outputId": "24faa999-0c86-47fe-abeb-579d429e7b56"
      },
      "execution_count": null,
      "outputs": [
        {
          "output_type": "stream",
          "name": "stdout",
          "text": [
            "Are all elements in array2 distinct? False\n"
          ]
        }
      ]
    },
    {
      "cell_type": "markdown",
      "source": [
        "## Analysis"
      ],
      "metadata": {
        "id": "AlUuEhxAGrGi"
      }
    },
    {
      "cell_type": "markdown",
      "source": [
        "1) Input size $n => T(n)$\n",
        "\n",
        "2) Basis operator: \"==\" on line 10\n",
        "\n",
        "3) Worst cases: The algorithm performs the maximum number of operations when all elements are distinct\n",
        "\n",
        "4) $T(n) ) is: [ T(n) = O(n \\log n) + O(n) = O(n \\log n)]$"
      ],
      "metadata": {
        "id": "0d_9tZxQGuES"
      }
    },
    {
      "cell_type": "markdown",
      "source": [
        "# Exercise 6"
      ],
      "metadata": {
        "id": "ygXtVUC4-J3r"
      }
    },
    {
      "cell_type": "markdown",
      "source": [
        "## Algorithrm"
      ],
      "metadata": {
        "id": "MAeChPj6G08a"
      }
    },
    {
      "cell_type": "code",
      "source": [
        "def find_max(arr):\n",
        "  \"\"\"\n",
        "    this function is used to find the maximum element in an array,\n",
        "    supposing that all elements in the array are unique\n",
        "    input: arr - an array\n",
        "    output: maximum element in an array\n",
        "  \"\"\"\n",
        "  if not arr:\n",
        "    return None\n",
        "  max_element = arr[0]\n",
        "  for element in arr[1:]:\n",
        "    if element > max_element:\n",
        "      max_element = element\n",
        "  return max_element"
      ],
      "metadata": {
        "id": "ojMLw8JXBiQn"
      },
      "execution_count": null,
      "outputs": []
    },
    {
      "cell_type": "code",
      "source": [
        "arr1 = [3, 1, 4, 2, 5, 6]\n",
        "result1 = find_max(arr1)\n",
        "print(\"Maximum element in an array:\", result1)\n"
      ],
      "metadata": {
        "colab": {
          "base_uri": "https://localhost:8080/"
        },
        "id": "aHWifCBWGCzy",
        "outputId": "52d673f8-1d6c-4811-b462-a0ebec79ca5a"
      },
      "execution_count": null,
      "outputs": [
        {
          "output_type": "stream",
          "name": "stdout",
          "text": [
            "Maximum element in an array: 6\n"
          ]
        }
      ]
    },
    {
      "cell_type": "code",
      "source": [
        "arr2 = []\n",
        "result2 = find_max(arr2)\n",
        "print(\"Maximum element in an array:\", result2)"
      ],
      "metadata": {
        "colab": {
          "base_uri": "https://localhost:8080/"
        },
        "id": "3QjLei6-42hO",
        "outputId": "e7a959d1-6852-49e1-9bd7-764ac8c74880"
      },
      "execution_count": null,
      "outputs": [
        {
          "output_type": "stream",
          "name": "stdout",
          "text": [
            "Maximum element in an array: None\n"
          ]
        }
      ]
    },
    {
      "cell_type": "markdown",
      "source": [
        "## Analysis"
      ],
      "metadata": {
        "id": "XYAOE8HLG8cC"
      }
    },
    {
      "cell_type": "markdown",
      "source": [
        "1) Input size $n => T(n)$\n",
        "\n",
        "2) Basis operator: \">\" on line 12\n",
        "\n",
        "3) Worst cases: The algorithm performs the maximum number of comparisons when the maximum element is at the end of the array.\n",
        "\n",
        "4) $T(n)=1+1+…+1=n−1≈n$"
      ],
      "metadata": {
        "id": "iPW6LwXEHAVS"
      }
    },
    {
      "cell_type": "markdown",
      "source": [
        "# Exercise 7"
      ],
      "metadata": {
        "id": "Xuo00q5H-NlD"
      }
    },
    {
      "cell_type": "markdown",
      "source": [
        "## Algorithrm"
      ],
      "metadata": {
        "id": "sYWHifYCuvER"
      }
    },
    {
      "cell_type": "code",
      "source": [
        "def multiply_matrices(A, B):\n",
        "    \"\"\"\n",
        "      this function is used to find the multiplying (x) two matrices\n",
        "      input: matrix(A) & matrix(B)\n",
        "      output: if the number of columns in A is not equal to the number of rows in B raise ValueError\n",
        "              otherwise return result\n",
        "    \"\"\"\n",
        "    if len(A[0]) != len(B):\n",
        "        raise ValueError(\"The number of columns of matrix A must equal the number of rows of matrix B.\")\n",
        "    result = [[0 for _ in range(len(B[0]))] for _ in range(len(A))]\n",
        "    for i in range(len(A)):\n",
        "        for j in range(len(B[0])):\n",
        "            for k in range(len(B)):\n",
        "                result[i][j] += A[i][k] * B[k][j]\n",
        "    return result"
      ],
      "metadata": {
        "id": "6w_sH1vPuyRG"
      },
      "execution_count": null,
      "outputs": []
    },
    {
      "cell_type": "code",
      "source": [
        "A = [[1, 2], [3, 4]]\n",
        "B = [[2, 0], [1, 2]]\n",
        "result = multiply_matrices(A, B)\n",
        "print(\"Result of multiplying two matrices:\")\n",
        "for row in result:\n",
        "    print(row)"
      ],
      "metadata": {
        "colab": {
          "base_uri": "https://localhost:8080/"
        },
        "id": "qT4akpUG5Oda",
        "outputId": "e63808ac-1501-40e5-c6b3-85d6a55599b2"
      },
      "execution_count": null,
      "outputs": [
        {
          "output_type": "stream",
          "name": "stdout",
          "text": [
            "Result of multiplying two matrices:\n",
            "[4, 4]\n",
            "[10, 8]\n"
          ]
        }
      ]
    },
    {
      "cell_type": "code",
      "source": [
        "A = [[1, 2, 3], [4, 5, 6]]\n",
        "B = [[7, 8], [9, 10], [11, 12]]\n",
        "result = multiply_matrices(A, B)\n",
        "print(\"Result of multiplying two matrices:\")\n",
        "for row in result:\n",
        "    print(row)"
      ],
      "metadata": {
        "colab": {
          "base_uri": "https://localhost:8080/"
        },
        "id": "hBSFNMilwX9n",
        "outputId": "f15d107f-43bc-4051-cd88-e74e29de40a6"
      },
      "execution_count": null,
      "outputs": [
        {
          "output_type": "stream",
          "name": "stdout",
          "text": [
            "Result of multiplying two matrices:\n",
            "[58, 64]\n",
            "[139, 154]\n"
          ]
        }
      ]
    },
    {
      "cell_type": "markdown",
      "source": [
        "## Analysis"
      ],
      "metadata": {
        "id": "vVGCD7SJ1AgE"
      }
    },
    {
      "cell_type": "markdown",
      "source": [
        "1) Input size $n , m, p => T(n, m, p)$\n",
        "\n",
        "2) Basis operator: \"*, + \" on line 14\n",
        "\n",
        "3) Worst cases: no\n",
        "\n",
        "4) $T(n,m) = 1+1+...+1 = n * m * p$"
      ],
      "metadata": {
        "id": "tXf3LKPU1DeB"
      }
    },
    {
      "cell_type": "markdown",
      "source": [
        "# Exercise 8"
      ],
      "metadata": {
        "id": "qzeJ9kch-Pbz"
      }
    },
    {
      "cell_type": "markdown",
      "source": [
        "## Algorithrm"
      ],
      "metadata": {
        "id": "gcjfr_zx1HcN"
      }
    },
    {
      "cell_type": "code",
      "source": [
        "def matrix_by_number(A, k):\n",
        "    \"\"\"\n",
        "      this function is used to find the multiplying (x) a matrix with a number\n",
        "      input: matrix(A) & k, k is number\n",
        "      output: result of multiplying a matrix with a number\n",
        "    \"\"\"\n",
        "    result = [[0 for _ in range(len(A[0]))] for _ in range(len(A))]\n",
        "    for i in range(len(A)):\n",
        "        for j in range(len(A[0])):\n",
        "            result[i][j] = A[i][j] * k\n",
        "    return result"
      ],
      "metadata": {
        "id": "gFyR71rU1M0V"
      },
      "execution_count": null,
      "outputs": []
    },
    {
      "cell_type": "code",
      "source": [
        "A = [[1, 2, 3], [4, 5, 6]]\n",
        "k = 2\n",
        "result = matrix_by_number(A, k)\n",
        "print(\"Result of multiplying a matrix with a number: \")\n",
        "for row in result:\n",
        "    print(row)"
      ],
      "metadata": {
        "colab": {
          "base_uri": "https://localhost:8080/"
        },
        "id": "ujtTI0_i1wKH",
        "outputId": "3c1fd74d-96a0-4f4a-bf8d-ac9adf93fce2"
      },
      "execution_count": null,
      "outputs": [
        {
          "output_type": "stream",
          "name": "stdout",
          "text": [
            "Result of multiplying a matrix with a number: \n",
            "[2, 4, 6]\n",
            "[8, 10, 12]\n"
          ]
        }
      ]
    },
    {
      "cell_type": "markdown",
      "source": [
        "## Analysis"
      ],
      "metadata": {
        "id": "QAOF23XW1KCD"
      }
    },
    {
      "cell_type": "markdown",
      "source": [
        "1) Input size $n, m => T(n, m)$\n",
        "\n",
        "2) Basis operator: \"*\" on line 10\n",
        "\n",
        "3) Worst cases: no\n",
        "\n",
        "4) $T(n) = 1+1+...+1 = n * m$"
      ],
      "metadata": {
        "id": "u55zzkR42iMP"
      }
    },
    {
      "cell_type": "markdown",
      "source": [
        "# Exercise 9"
      ],
      "metadata": {
        "id": "FXijvoe_-R4i"
      }
    },
    {
      "cell_type": "markdown",
      "source": [
        "## Algorithrm"
      ],
      "metadata": {
        "id": "_rV4XjDQ2lvr"
      }
    },
    {
      "cell_type": "code",
      "source": [
        "def subtract_matrices(A, B):\n",
        "    \"\"\"\n",
        "      this function is used to find the subtracting (-) two matrices\n",
        "      input: matrix(A) & matrix(B)\n",
        "      output: if either the number of rows or the number of columns are not the same between the two matrices raise ValueError\n",
        "              otherwise return result of subtracting two matrices\n",
        "    \"\"\"\n",
        "    if len(A) != len(B) or len(A[0]) != len(B[0]):\n",
        "        raise ValueError(\"The two matrices must have the same size\")\n",
        "    result = [[0 for _ in range(len(A[0]))] for _ in range(len(A))]\n",
        "    for i in range(len(A)):\n",
        "        for j in range(len(A[0])):\n",
        "            result[i][j] = A[i][j] - B[i][j]\n",
        "    return result"
      ],
      "metadata": {
        "id": "GO1vHnnx2uLC"
      },
      "execution_count": null,
      "outputs": []
    },
    {
      "cell_type": "code",
      "source": [
        "A = [[5, 6, 7], [8, 9, 10]]\n",
        "B = [[1, 2, 3], [4, 5, 6]]\n",
        "result = subtract_matrices(A, B)\n",
        "print(\"Result of subtracting two matrices: \")\n",
        "for row in result:\n",
        "    print(row)"
      ],
      "metadata": {
        "colab": {
          "base_uri": "https://localhost:8080/"
        },
        "id": "VFX0hZnM3KuQ",
        "outputId": "8ec316ac-7af6-4ad5-c2bd-34f8d352887e"
      },
      "execution_count": null,
      "outputs": [
        {
          "output_type": "stream",
          "name": "stdout",
          "text": [
            "Result of subtracting two matrices: \n",
            "[4, 4, 4]\n",
            "[4, 4, 4]\n"
          ]
        }
      ]
    },
    {
      "cell_type": "markdown",
      "source": [
        "## Analysis"
      ],
      "metadata": {
        "id": "Q5U_awQV2ofh"
      }
    },
    {
      "cell_type": "markdown",
      "source": [
        "1) Input size $n, m => T(n, m)$\n",
        "\n",
        "2) Basis operator: \"-\" on line 13\n",
        "\n",
        "3) Worst cases: no\n",
        "\n",
        "4) $T(n) = 1+1+...+1 = n * m$"
      ],
      "metadata": {
        "id": "G22angVN2rbJ"
      }
    },
    {
      "cell_type": "markdown",
      "source": [
        "# Exercise 10"
      ],
      "metadata": {
        "id": "xXKfO3P3-USc"
      }
    },
    {
      "cell_type": "markdown",
      "source": [
        "## Algorithrm"
      ],
      "metadata": {
        "id": "m8_qCdFL3Mxd"
      }
    },
    {
      "cell_type": "code",
      "source": [
        "def add_matrices(A, B):\n",
        "    \"\"\"\n",
        "      this function is used to find the adding  two matrices\n",
        "      input: matrix(A) & matrix(B)\n",
        "      output: if either the number of rows or the number of columns are not the same between the two matrices raise ValueError\n",
        "              otherwise return result of adding two matrices\n",
        "    \"\"\"\n",
        "    if len(A) != len(B) or len(A[0]) != len(B[0]):\n",
        "        raise ValueError(\"The two matrices must have the same size\")\n",
        "    result = [[0 for _ in range(len(A[0]))] for _ in range(len(A))]\n",
        "    for i in range(len(A)):\n",
        "        for j in range(len(A[0])):\n",
        "            result[i][j] = A[i][j] + B[i][j]\n",
        "    return result"
      ],
      "metadata": {
        "id": "7tQTLe6r3Vxn"
      },
      "execution_count": null,
      "outputs": []
    },
    {
      "cell_type": "code",
      "source": [
        "A = [[1, 2, 3], [4, 5, 6]]\n",
        "B = [[7, 8, 9], [10, 11, 12]]\n",
        "result = add_matrices(A, B)\n",
        "print(\"Result of adding  two matrices: \")\n",
        "for row in result:\n",
        "    print(row)"
      ],
      "metadata": {
        "colab": {
          "base_uri": "https://localhost:8080/"
        },
        "id": "Q5AHpf423voA",
        "outputId": "a4261e7b-add6-48d5-8491-22ea2c5c5e37"
      },
      "execution_count": null,
      "outputs": [
        {
          "output_type": "stream",
          "name": "stdout",
          "text": [
            "Result of adding  two matrices: \n",
            "[8, 10, 12]\n",
            "[14, 16, 18]\n"
          ]
        }
      ]
    },
    {
      "cell_type": "markdown",
      "source": [
        "## Analysis"
      ],
      "metadata": {
        "id": "j-yWBe9M3PJv"
      }
    },
    {
      "cell_type": "markdown",
      "source": [
        "1) Input size $n, m => T(n, m)$\n",
        "\n",
        "2) Basis operator: \"+\" on line 13\n",
        "\n",
        "3) Worst cases: no\n",
        "\n",
        "4) $T(n) = 1+1+...+1 = n * m$"
      ],
      "metadata": {
        "id": "i-L2nvNQ3Rjx"
      }
    }
  ]
}